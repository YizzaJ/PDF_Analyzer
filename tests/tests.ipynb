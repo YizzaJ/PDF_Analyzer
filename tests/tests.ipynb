{
 "cells": [
  {
   "cell_type": "code",
   "execution_count": 6,
   "metadata": {},
   "outputs": [
    {
     "ename": "ModuleNotFoundError",
     "evalue": "No module named 'practica_1'",
     "output_type": "error",
     "traceback": [
      "\u001b[1;31m---------------------------------------------------------------------------\u001b[0m",
      "\u001b[1;31mModuleNotFoundError\u001b[0m                       Traceback (most recent call last)",
      "Cell \u001b[1;32mIn[6], line 2\u001b[0m\n\u001b[0;32m      1\u001b[0m \u001b[39mfrom\u001b[39;00m \u001b[39mbs4\u001b[39;00m \u001b[39mimport\u001b[39;00m BeautifulSoup\n\u001b[1;32m----> 2\u001b[0m \u001b[39mfrom\u001b[39;00m \u001b[39mpractica_1\u001b[39;00m \u001b[39mimport\u001b[39;00m extract \u001b[39mas\u001b[39;00m ext\n\u001b[0;32m      4\u001b[0m \u001b[39mdef\u001b[39;00m \u001b[39mget_xml\u001b[39m(file):\n\u001b[0;32m      5\u001b[0m     \u001b[39mwith\u001b[39;00m \u001b[39mopen\u001b[39m(\u001b[39m\"\u001b[39m\u001b[39m./xmls/\u001b[39m\u001b[39m\"\u001b[39m \u001b[39m+\u001b[39m file, \u001b[39m'\u001b[39m\u001b[39mr\u001b[39m\u001b[39m'\u001b[39m, encoding\u001b[39m=\u001b[39m\u001b[39m\"\u001b[39m\u001b[39mutf-8\u001b[39m\u001b[39m\"\u001b[39m) \u001b[39mas\u001b[39;00m tei:\n",
      "\u001b[1;31mModuleNotFoundError\u001b[0m: No module named 'practica_1'"
     ]
    }
   ],
   "source": [
    "from bs4 import BeautifulSoup\n",
    "from practica_1 import extract as ext\n",
    "\n",
    "def get_xml(file):\n",
    "    with open(\"./xmls/\" + file, 'r', encoding=\"utf-8\") as tei:\n",
    "       return BeautifulSoup(tei, 'xml')\n",
    "\n",
    "def test_get_keywords(self):\n",
    "    # Test for finding keywords in a sample XML document\n",
    "    soup = get_xml()\n",
    "    assert ext.get_keywords(soup).text == (\"Keyword 1, Keyword 2, Keyword 3\")\n"
   ]
  }
 ],
 "metadata": {
  "kernelspec": {
   "display_name": "Python 3",
   "language": "python",
   "name": "python3"
  },
  "language_info": {
   "codemirror_mode": {
    "name": "ipython",
    "version": 3
   },
   "file_extension": ".py",
   "mimetype": "text/x-python",
   "name": "python",
   "nbconvert_exporter": "python",
   "pygments_lexer": "ipython3",
   "version": "3.11.0"
  },
  "orig_nbformat": 4,
  "vscode": {
   "interpreter": {
    "hash": "c261aea317cc0286b3b3261fbba9abdec21eaa57589985bb7a274bf54d6cc0a7"
   }
  }
 },
 "nbformat": 4,
 "nbformat_minor": 2
}
