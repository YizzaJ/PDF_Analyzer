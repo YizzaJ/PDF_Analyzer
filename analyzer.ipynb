{
 "cells": [
  {
   "cell_type": "code",
   "execution_count": null,
   "id": "ac03c097",
   "metadata": {},
   "outputs": [],
   "source": [
    "from grobid_client.grobid_client import GrobidClient\n",
    "\n",
    "client = GrobidClient(config_path=\"../config.json\")\n",
    "client.process(\"processFulltextDocument\", \"../pdfs/input\", output=\"../pdfs/output\", consolidate_citations=True, tei_coordinates=True, force=True)"
   ]
  },
  {
   "cell_type": "code",
   "execution_count": null,
   "id": "9db528ca",
   "metadata": {},
   "outputs": [],
   "source": [
    "import grobid_tei_xml\n",
    "\n",
    "xml_path = \"../pdfs/output/160541-Rivers-Venezuela.tei.xml\"\n",
    "\n",
    "with open(xml_path, 'r', encoding=\"utf-8\") as xml_file:\n",
    "    doc = grobid_tei_xml.parse_document_xml(xml_file.read())\n",
    "\n",
    "print(\"title: \" + doc.header.title)\n",
    "print(\"authors: \" + \", \".join([a.full_name for a in doc.header.authors]))\n",
    "print(\"doi: \" + str(doc.header.doi))\n",
    "print(\"citation count: \" + str(len(doc.citations)))\n",
    "print(\"abstract: \" + doc.abstract)"
   ]
  },
  {
   "cell_type": "code",
   "execution_count": null,
   "id": "e948facf",
   "metadata": {},
   "outputs": [],
   "source": [
    "import os\n",
    "import grobid_tei_xml\n",
    "\n",
    "directory_path = \"../pdfs/output/\"\n",
    "\n",
    "for root, dirs, files in os.walk(directory_path):\n",
    "    for file_name in files + dirs:\n",
    "        file_path = os.path.join(root, file_name)\n",
    "        file.write(\".\" + str(file_path))\n",
    "\n",
    "        with open(file_path, 'r', encoding=\"utf-8\") as xml_file:\n",
    "            doc = grobid_tei_xml.parse_document_xml(xml_file.read())\n",
    "\n",
    "        file.write(\"title: \" + doc.header.title)\n",
    "        print(\"authors: \" + \", \".join([a.full_name for a in doc.header.authors]))\n",
    "        print(\"doi: \" + str(doc.header.doi))\n",
    "        print(\"citation count: \" + str(len(doc.citations)))\n",
    "        print(\"keywords: \" + doc.header.url)"
   ]
  },
  {
   "cell_type": "code",
   "execution_count": null,
   "id": "89c4b9ca",
   "metadata": {},
   "outputs": [],
   "source": [
    "from bs4 import BeautifulSoup\n",
    "import lxml\n",
    "\n",
    "tei_doc = '../pdfs/output/3958006-Prosperity-Spain-Latin-America.tei.xml'\n",
    "with open(tei_doc, 'r', encoding=\"utf-8\") as tei:\n",
    "    soup = BeautifulSoup(tei, 'xml')\n",
    "\n",
    "keywords = soup.find('keywords')\n",
    "print(keywords.text)\n"
   ]
  },
  {
   "cell_type": "code",
   "execution_count": null,
   "metadata": {},
   "outputs": [],
   "source": [
    "from bs4 import BeautifulSoup\n",
    "import os\n",
    "\n",
    "directory_path = '../pdfs/output/'\n",
    "\n",
    "for root, dirs, files in os.walk(directory_path):\n",
    "    for file_name in files + dirs:\n",
    "        file_path = os.path.join(root, file_name)\n",
    "        print(\"For file: \" + str(file_path))\n",
    "\n",
    "        with open(file_path, 'r', encoding=\"utf-8\") as tei:\n",
    "            soup = BeautifulSoup(tei, 'xml')\n",
    "            keywords = soup.find('keywords')\n",
    "\n",
    "            figures = soup.find_all('figure')\n",
    "\n",
    "            links = soup.find_all(\"ptr\")\n",
    "        \n",
    "            if keywords is not None:\n",
    "                print(\"Keywords :\\n\" + keywords.text)\n",
    "            else:\n",
    "                print(\"No keywords found.\")\n",
    "\n",
    "            if figures is not None:\n",
    "                print(\"Number of figures found: \" + str(len(figures)) + \"\\n\")\n",
    "            else:\n",
    "                print(\"Number of figures: 0\")\n",
    "\n",
    "            if links is not None:\n",
    "                print(str(len(links)) + \" links found:\\n\")\n",
    "                for link in links:\n",
    "                    print(link[\"target\"])\n",
    "            else:\n",
    "                print(\"No links found.\")\n",
    "\n",
    "\n",
    "            print(\"______________________________________________________\\n\")\n",
    "            \n",
    "\n",
    "\n"
   ]
  },
  {
   "cell_type": "code",
   "execution_count": 38,
   "id": "13208b00",
   "metadata": {},
   "outputs": [
    {
     "ename": "NameError",
     "evalue": "name 'file' is not defined",
     "output_type": "error",
     "traceback": [
      "\u001b[1;31m---------------------------------------------------------------------------\u001b[0m",
      "\u001b[1;31mNameError\u001b[0m                                 Traceback (most recent call last)",
      "Cell \u001b[1;32mIn[38], line 9\u001b[0m\n\u001b[0;32m      7\u001b[0m \u001b[39mfor\u001b[39;00m file_name \u001b[39min\u001b[39;00m files \u001b[39m+\u001b[39m dirs:\n\u001b[0;32m      8\u001b[0m     file_path \u001b[39m=\u001b[39m os\u001b[39m.\u001b[39mpath\u001b[39m.\u001b[39mjoin(root, file_name)\n\u001b[1;32m----> 9\u001b[0m     file\u001b[39m.\u001b[39mwrite(\u001b[39m\"\u001b[39m\u001b[39mFor file: \u001b[39m\u001b[39m\"\u001b[39m \u001b[39m+\u001b[39m \u001b[39mstr\u001b[39m(file_path))\n\u001b[0;32m     11\u001b[0m     \u001b[39mwith\u001b[39;00m \u001b[39mopen\u001b[39m(file_path, \u001b[39m'\u001b[39m\u001b[39mr\u001b[39m\u001b[39m'\u001b[39m, encoding\u001b[39m=\u001b[39m\u001b[39m\"\u001b[39m\u001b[39mutf-8\u001b[39m\u001b[39m\"\u001b[39m) \u001b[39mas\u001b[39;00m tei:\n\u001b[0;32m     12\u001b[0m         soup \u001b[39m=\u001b[39m BeautifulSoup(tei, \u001b[39m'\u001b[39m\u001b[39mxml\u001b[39m\u001b[39m'\u001b[39m)\n",
      "\u001b[1;31mNameError\u001b[0m: name 'file' is not defined"
     ]
    }
   ],
   "source": [
    "from bs4 import BeautifulSoup\n",
    "import os\n",
    "\n",
    "directory_path = '../pdfs/output/'\n",
    "\n",
    "for root, dirs, files in os.walk(directory_path):\n",
    "    for file_name in files + dirs:\n",
    "        file_path = os.path.join(root, file_name)\n",
    "        file.write(\"For file: \" + str(file_path))\n",
    "\n",
    "        with open(file_path, 'r', encoding=\"utf-8\") as tei:\n",
    "            soup = BeautifulSoup(tei, 'xml')\n",
    "            keywords = soup.find('keywords')\n",
    "\n",
    "            figures = soup.find_all('figure')\n",
    "\n",
    "            links = soup.find_all(\"ptr\")\n",
    "\n",
    "            with open('rationale.md', 'a') as file:\n",
    "               \n",
    "                if keywords is not None:\n",
    "                    file.write(\"Keywords :\\n\" + keywords.text)\n",
    "                else:\n",
    "                    file.write(\"No keywords found.\")\n",
    "\n",
    "                if figures is not None:\n",
    "                    file.write(\"Number of figures found: \" + str(len(figures)) + \"\\n\")\n",
    "                else:\n",
    "                    file.write(\"Number of figures: 0\")\n",
    "\n",
    "                if links is not None:\n",
    "                    file.write(str(len(links)) + \" links found:\\n\")\n",
    "                    for link in links:\n",
    "                        file.write(link[\"target\"])\n",
    "                else:\n",
    "                    file.write(\"No links found.\")\n",
    "\n",
    "\n",
    "                file.write(\"______________________________________________________\\n\")\n",
    "            \n",
    "\n",
    "\n"
   ]
  }
 ],
 "metadata": {
  "kernelspec": {
   "display_name": "Python 3",
   "language": "python",
   "name": "python3"
  },
  "language_info": {
   "codemirror_mode": {
    "name": "ipython",
    "version": 3
   },
   "file_extension": ".py",
   "mimetype": "text/x-python",
   "name": "python",
   "nbconvert_exporter": "python",
   "pygments_lexer": "ipython3",
   "version": "3.11.0"
  },
  "vscode": {
   "interpreter": {
    "hash": "c261aea317cc0286b3b3261fbba9abdec21eaa57589985bb7a274bf54d6cc0a7"
   }
  }
 },
 "nbformat": 4,
 "nbformat_minor": 5
}
