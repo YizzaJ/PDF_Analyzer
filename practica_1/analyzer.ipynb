{
 "cells": [
  {
   "cell_type": "code",
   "execution_count": null,
   "id": "ac03c097",
   "metadata": {},
   "outputs": [],
   "source": [
    "from grobid_client.grobid_client import GrobidClient\n",
    "\n",
    "client = GrobidClient(config_path=\"../config.json\")\n",
    "client.process(\"processFulltextDocument\", \"../pdfs/input\", output=\"../pdfs/output\", consolidate_citations=True, tei_coordinates=True, force=True)"
   ]
  },
  {
   "cell_type": "code",
   "execution_count": null,
   "id": "4df22f12",
   "metadata": {},
   "outputs": [],
   "source": [
    "from bs4 import BeautifulSoup\n",
    "import os\n",
    "\n",
    "directory_path = '../pdfs/output/'\n",
    "output_file = 'rationale.md'\n",
    "\n",
    "if os.path.exists(output_file):\n",
    "    os.remove(output_file)\n",
    "\n",
    "with open(output_file, 'w') as file:\n",
    "    for root, dirs, files in os.walk(directory_path):\n",
    "        for file_name in files + dirs:\n",
    "            file_path = os.path.join(root, file_name)\n",
    "\n",
    "            with open(file_path, 'r', encoding=\"utf-8\") as tei:\n",
    "                soup = BeautifulSoup(tei, 'xml')\n",
    "                keywords = soup.find('keywords')\n",
    "                figures = soup.find_all('figure')\n",
    "                links = soup.find_all(\"ptr\")\n",
    "\n",
    "                file.write(\"## For file: \" + str(file_path) + \"\\n\\n\")\n",
    "                \n",
    "                if keywords is not None:\n",
    "                    file.write(\"**Keywords:**\\n\\n\" + keywords.text + \"\\n\\n\")\n",
    "                else:\n",
    "                    file.write(\"*Keywords:* No keywords found.\\n\\n\")\n",
    "\n",
    "                if figures is not None:\n",
    "                    file.write(\"*Number of figures found:* \" + str(len(figures)) + \"\\n\\n\")\n",
    "                else:\n",
    "                    file.write(\"*Number of figures found:* 0\\n\\n\")\n",
    "\n",
    "                if links is not None:\n",
    "                    file.write(\"**Links found:**\\n\\n\")\n",
    "                    for link in links:\n",
    "                        file.write(\"- \" + link[\"target\"] + \"\\n\")\n",
    "                    file.write(\"\\n\")\n",
    "                else:\n",
    "                    file.write(\"*Links found:* No links found.\\n\\n\")\n",
    "\n",
    "                file.write(\"---\\n\\n\")"
   ]
  }
 ],
 "metadata": {
  "kernelspec": {
   "display_name": "Python 3",
   "language": "python",
   "name": "python3"
  },
  "language_info": {
   "codemirror_mode": {
    "name": "ipython",
    "version": 3
   },
   "file_extension": ".py",
   "mimetype": "text/x-python",
   "name": "python",
   "nbconvert_exporter": "python",
   "pygments_lexer": "ipython3",
   "version": "3.11.0"
  },
  "vscode": {
   "interpreter": {
    "hash": "c261aea317cc0286b3b3261fbba9abdec21eaa57589985bb7a274bf54d6cc0a7"
   }
  }
 },
 "nbformat": 4,
 "nbformat_minor": 5
}
